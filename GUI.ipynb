{
 "cells": [
  {
   "cell_type": "markdown",
   "id": "914e2d8f",
   "metadata": {},
   "source": [
    "# Importing libraries"
   ]
  },
  {
   "cell_type": "code",
   "execution_count": 1,
   "id": "f0e4a371",
   "metadata": {},
   "outputs": [],
   "source": [
    "import ipywidgets as widgets\n",
    "from IPython.display import display\n",
    "import os"
   ]
  },
  {
   "cell_type": "markdown",
   "id": "89d74a19",
   "metadata": {},
   "source": [
    "# Helper functions"
   ]
  },
  {
   "cell_type": "code",
   "execution_count": 67,
   "id": "7fe954cd",
   "metadata": {},
   "outputs": [],
   "source": [
    "def on_upload(event, save_path=\"assets/temp\"):\n",
    "    # Create the save path if it doesn't exist\n",
    "    if not os.path.exists(save_path):\n",
    "        os.makedirs(save_path)\n",
    "    # Get the file data and save it to the specified path\n",
    "    print(\"event: \", event)\n",
    "    with open(os.path.join(save_path, event.metadata['name']), 'wb') as f:\n",
    "        f.write(event.data)\n",
    "    print(\"File path:\", os.path.join(save_path, event.metadata['name']))\n",
    "    print(\"File name:\", event.metadata['name'])\n",
    "    \n",
    "    \n",
    "microphones = [\"Microphone (HyperX QuadCast S)\"]"
   ]
  },
  {
   "cell_type": "markdown",
   "id": "1dabd584",
   "metadata": {},
   "source": [
    "# Creating the GUI"
   ]
  },
  {
   "cell_type": "code",
   "execution_count": 96,
   "id": "3b928d3d",
   "metadata": {},
   "outputs": [],
   "source": [
    "import ipywidgets as widgets\n",
    "from IPython.display import display, clear_output\n",
    "\n",
    "\n",
    "class VIInstanceGUI:\n",
    "    _id = 0  # Class attribute for automatic ID generation\n",
    "\n",
    "    def __init__(self):\n",
    "        self.previous = None\n",
    "        self.next = None\n",
    "        self.screens = []\n",
    "        self.actions = []\n",
    "        self.name = \"Default Layer\"\n",
    "        self.id = VIInstanceGUI._id\n",
    "        VIInstanceGUI._id += 1\n",
    "        self.instance = None\n",
    "        self.mode = 'Basic'\n",
    "        self.mode_toggle_button = widgets.ToggleButton(\n",
    "            description='Basic',\n",
    "            value=True,\n",
    "            button_style='',\n",
    "            tooltip='Switch between Basic and Advanced modes',\n",
    "        )\n",
    "        self.mode_toggle_button.observe(self.change_mode, 'value')\n",
    "\n",
    "        # Create the buttons and input fields\n",
    "        self.previous_buttons = [widgets.Button(description=\"Show Previous Layers\", button_style='', layout=widgets.Layout(width='150px'))]\n",
    "        self.next_buttons = [widgets.Button(description=\"Show Next Layer\", button_style='', layout=widgets.Layout(width='150px'))]\n",
    "        self.screen_buttons = [widgets.Button(description=\"Screen 1\", button_style='', layout=widgets.Layout(width='150px'))]\n",
    "        self.action_buttons = [widgets.Button(description=\"Action 1\", button_style='', layout=widgets.Layout(width='150px'))]\n",
    "        self.add_screen_button = widgets.Button(description=\"+\", button_style='', layout=widgets.Layout(width='150px'))\n",
    "        self.add_action_button = widgets.Button(description=\"+\", button_style='', layout=widgets.Layout(width='150px'))\n",
    "        self.name_input = widgets.Text(description=\"Name:\", value=self.name)\n",
    "        self.id_input = widgets.IntText(description=\"ID:\", value=self.id)\n",
    "        self.create_button = widgets.Button(description=\"Create VI Instance\", button_style='success')\n",
    "        self.output = widgets.Output()\n",
    "\n",
    "        self.microphone_list = widgets.Dropdown(options=['Default Microphone'], description=microphones[0])\n",
    "        self.asr_model_list = widgets.Dropdown(options=['Default ASR Model'], description=\"Whisper\")\n",
    "        self.t2s_model_list = widgets.Dropdown(options=['Default T2S Model'], description=\"Google Speech Brain\")\n",
    "\n",
    "        # Connect the button click events to their handlers\n",
    "        for button in self.previous_buttons:\n",
    "            button.on_click(self.set_previous)\n",
    "        for button in self.next_buttons:\n",
    "            button.on_click(self.set_next)\n",
    "        for button in self.screen_buttons:\n",
    "            button.on_click(self.add_screen)\n",
    "        for button in self.action_buttons:\n",
    "            button.on_click(self.add_action)\n",
    "        self.add_screen_button.on_click(self.create_screen)\n",
    "        self.add_action_button.on_click(self.create_action)\n",
    "        self.create_button.on_click(self.create_instance)\n",
    "\n",
    "    \n",
    "    def change_mode(self, change):\n",
    "        self.mode = 'Advanced' if change.new else 'Basic'\n",
    "        self.mode_toggle_button.description = self.mode\n",
    "        clear_output(wait=True)\n",
    "        self.display_all()\n",
    "    \n",
    "    def set_previous(self, b):\n",
    "        with self.output:\n",
    "            #self.previous = b.description.replace(\"Previous Layer: \", \"\")\n",
    "            print(\"Previous Layer set to:\", self.previous)\n",
    "\n",
    "    def set_next(self, b):\n",
    "        with self.output:\n",
    "            #self.next = #b.description.replace(\"Next Layer: \", \"\")\n",
    "            print(\"Next Layer set to:\", self.next)\n",
    "\n",
    "    def add_screen(self, b):\n",
    "        with self.output:\n",
    "            if b.description not in self.screens:\n",
    "                self.screens.append(b.description)\n",
    "                print(\"Screens:\", self.screens)\n",
    "            else:\n",
    "                print(\"Screen already added.\")\n",
    "\n",
    "    def add_action(self, b):\n",
    "        with self.output:\n",
    "            if b.description not in self.actions:\n",
    "                self.actions.append(b.description)\n",
    "                print(\"Actions:\", self.actions)\n",
    "            else:\n",
    "                print(\"Action already added.\")\n",
    "                \n",
    "    def display_all(self):\n",
    "        display(widgets.HTML(value=\"<h2>Create VI Instance</h2>\"))\n",
    "        self.display()\n",
    "                \n",
    "    def create_screen(self, b):\n",
    "        with self.output:\n",
    "            screen_num = len(self.screen_buttons) + 1\n",
    "            new_screen = widgets.Button(description=\"Screen {}\".format(screen_num), button_style='', layout=widgets.Layout(width='150px'))\n",
    "            new_screen.on_click\n",
    "            self.screen_buttons.append(new_screen)\n",
    "            \n",
    "            if self.next:\n",
    "                self.next.append(new_screen)\n",
    "            else:\n",
    "                self.next = [new_screen]\n",
    "                \n",
    "            if self.previous:\n",
    "                self.previous.append(self.screens[-1])\n",
    "            else:\n",
    "                self.previous = [self.screens[-1]]\n",
    "                \n",
    "            screen_box.children = self.screen_buttons + [self.add_screen_button]\n",
    "    def create_action(self, b):\n",
    "        with self.output:\n",
    "            action_num = len(self.action_buttons) + 1\n",
    "            new_action = widgets.Button(description=\"Action {}\".format(action_num), button_style='', layout=widgets.Layout(width='150px'))\n",
    "            new_action.on_click(self.add_action)\n",
    "            self.action_buttons.append(new_action)\n",
    "            action_box.children = self.action_buttons + [self.add_action_button]\n",
    "\n",
    "    def create_instance(self, b):\n",
    "\n",
    "        with self.output:\n",
    "            self.instance = VI(previous=self.previous,\n",
    "                               next=self.next,\n",
    "                               screens=self.screens,\n",
    "                               actions=self.actions,\n",
    "                               name=self.name_input.value,\n",
    "                               identifier=self.id_input.value)\n",
    "            print(\"VI Instance Created!\")\n",
    "            print(self.instance.__dict__)\n",
    "\n",
    "    def display(self):\n",
    "        layout = widgets.Layout(width='400px', height='auto', justify_content='center')\n",
    "        style = {'button_width': '150px', 'description_width': 'initial'}\n",
    "        \n",
    "        toggle_button_container = widgets.HBox([self.mode_toggle_button], layout=widgets.Layout(justify_content='flex-end'))\n",
    "\n",
    "        previous_box = widgets.VBox(self.previous_buttons, layout=layout, style=style)\n",
    "        next_box = widgets.VBox(self.next_buttons, layout=layout, style=style)\n",
    "        global screen_box\n",
    "        screen_box = widgets.VBox(self.screen_buttons + [self.add_screen_button], layout=layout, style=style)\n",
    "        global action_box\n",
    "        action_box = widgets.VBox(self.action_buttons + [self.add_action_button], layout=layout, style=style)\n",
    "        name_box = widgets.VBox([self.name_input], layout=layout, style=style)\n",
    "        id_box = widgets.VBox([self.id_input], layout=layout, style=style)\n",
    "        create_box = widgets.VBox([self.create_button], layout=layout, style=style)\n",
    "        microphone_box = widgets.VBox([self.microphone_list], layout=layout, style=style)\n",
    "        asr_model_box = widgets.VBox([self.asr_model_list], layout=layout, style=style)\n",
    "        t2s_model_box = widgets.VBox([self.t2s_model_list], layout=layout, style=style)\n",
    "\n",
    "        previous_container = widgets.VBox([widgets.HTML(value=\"<h4>Previous Layer</h4>\"), previous_box], layout=layout)\n",
    "        next_container = widgets.VBox([widgets.HTML(value=\"<h4>Next Layer</h4>\"), next_box], layout=layout)\n",
    "        screen_container = widgets.VBox([widgets.HTML(value=\"<h4>Screens</h4>\"), screen_box], layout=layout)\n",
    "        action_container = widgets.VBox([widgets.HTML(value=\"<h4>Actions</h4>\"), action_box], layout=layout)\n",
    "        name_container = widgets.VBox([widgets.HTML(value=\"<br/><h4>Name and ID</h4>\"), name_box, id_box], layout=layout)\n",
    "        create_container = widgets.VBox([create_box], layout=layout)\n",
    "        microphone_container = widgets.VBox([widgets.HTML(value=\"<h4>Select Microphone</h4>\"), microphone_box], layout=layout)\n",
    "        asr_model_container = widgets.VBox([widgets.HTML(value=\"<h4>Select ASR Model</h4>\"), asr_model_box], layout=layout)\n",
    "        t2s_model_container = widgets.VBox([widgets.HTML(value=\"<h4>Select T2S Model</h4>\"), t2s_model_box], layout=layout)\n",
    "        display(widgets.HTML(value=\"<br/>\")) #previous_container, next_container, \n",
    "        \n",
    "        if self.mode == 'Basic':\n",
    "            row1_container = widgets.HBox([\n",
    "                screen_container, action_container\n",
    "            ], layout=widgets.Layout(justify_content='center'))\n",
    "        else:\n",
    "            row1_container = widgets.HBox([\n",
    "                previous_container, next_container, screen_container, action_container\n",
    "            ], layout=widgets.Layout(justify_content='center'))\n",
    "\n",
    "        if self.mode == 'Basic':\n",
    "            row2_container = widgets.HBox([\n",
    "                name_container, asr_model_container\n",
    "            ], layout=widgets.Layout(justify_content='center'))\n",
    "        else:\n",
    "            row2_container = widgets.HBox([\n",
    "                name_container, microphone_container, asr_model_container, t2s_model_container\n",
    "            ], layout=widgets.Layout(justify_content='center'))\n",
    "\n",
    "        row3_container = widgets.HBox([create_container], layout=widgets.Layout(justify_content='center'))\n",
    "\n",
    "        main_container = widgets.VBox([row1_container, row2_container, row3_container])\n",
    "        main_container.background_color = 'lightgray'\n",
    "\n",
    "        display(widgets.HTML(value=\"<h2>Create VI Instance</h2>\"))\n",
    "        display(toggle_button_container)\n",
    "        display(main_container)\n",
    "        display(widgets.HTML(value=\"<br/>\"))\n",
    "        display(self.output)\n"
   ]
  },
  {
   "cell_type": "code",
   "execution_count": 98,
   "id": "1bb91b3c",
   "metadata": {},
   "outputs": [
    {
     "data": {
      "application/vnd.jupyter.widget-view+json": {
       "model_id": "deb3b1f5dd2d4335aca5385c0bce01f7",
       "version_major": 2,
       "version_minor": 0
      },
      "text/plain": [
       "HTML(value='<h2>Create VI Instance</h2>')"
      ]
     },
     "metadata": {},
     "output_type": "display_data"
    },
    {
     "data": {
      "application/vnd.jupyter.widget-view+json": {
       "model_id": "ea4c4914eca64a2986530e05458c4f47",
       "version_major": 2,
       "version_minor": 0
      },
      "text/plain": [
       "HTML(value='<br/>')"
      ]
     },
     "metadata": {},
     "output_type": "display_data"
    },
    {
     "data": {
      "application/vnd.jupyter.widget-view+json": {
       "model_id": "7b1b646b9d9f437290ae1bda4d9cc7a8",
       "version_major": 2,
       "version_minor": 0
      },
      "text/plain": [
       "HTML(value='<h2>Create VI Instance</h2>')"
      ]
     },
     "metadata": {},
     "output_type": "display_data"
    },
    {
     "data": {
      "application/vnd.jupyter.widget-view+json": {
       "model_id": "4fa25aa92aea4e34b2e975f7108cc718",
       "version_major": 2,
       "version_minor": 0
      },
      "text/plain": [
       "HBox(children=(ToggleButton(value=False, description='Basic', tooltip='Switch between Basic and Advanced modes…"
      ]
     },
     "metadata": {},
     "output_type": "display_data"
    },
    {
     "data": {
      "application/vnd.jupyter.widget-view+json": {
       "model_id": "056edd0b1c804c6b80a11ab947e2d0ff",
       "version_major": 2,
       "version_minor": 0
      },
      "text/plain": [
       "VBox(children=(HBox(children=(VBox(children=(HTML(value='<h4>Screens</h4>'), VBox(children=(Button(description…"
      ]
     },
     "metadata": {},
     "output_type": "display_data"
    },
    {
     "data": {
      "application/vnd.jupyter.widget-view+json": {
       "model_id": "aaf1081877bf475f8b34c481a606b1d0",
       "version_major": 2,
       "version_minor": 0
      },
      "text/plain": [
       "HTML(value='<br/>')"
      ]
     },
     "metadata": {},
     "output_type": "display_data"
    },
    {
     "data": {
      "application/vnd.jupyter.widget-view+json": {
       "model_id": "f79669e1b4ee4a968b2245b6f64d0601",
       "version_major": 2,
       "version_minor": 0
      },
      "text/plain": [
       "Output(outputs=({'output_type': 'stream', 'text': \"Screens: ['Screen 1']\\nActions: ['Action 1']\\nAction alread…"
      ]
     },
     "metadata": {},
     "output_type": "display_data"
    }
   ],
   "source": [
    "gui = VIInstanceGUI()\n",
    "gui.display()"
   ]
  },
  {
   "cell_type": "code",
   "execution_count": null,
   "id": "20081103",
   "metadata": {},
   "outputs": [],
   "source": []
  },
  {
   "cell_type": "code",
   "execution_count": null,
   "id": "79f98d43",
   "metadata": {},
   "outputs": [],
   "source": []
  },
  {
   "cell_type": "code",
   "execution_count": null,
   "id": "868491c7",
   "metadata": {},
   "outputs": [],
   "source": []
  },
  {
   "cell_type": "code",
   "execution_count": null,
   "id": "683a522e",
   "metadata": {},
   "outputs": [],
   "source": []
  },
  {
   "cell_type": "code",
   "execution_count": 68,
   "id": "8e7bd80c",
   "metadata": {},
   "outputs": [
    {
     "data": {
      "application/vnd.jupyter.widget-view+json": {
       "model_id": "1f4bc7875aff4d2a90ca4d0d0bf64fe8",
       "version_major": 2,
       "version_minor": 0
      },
      "text/plain": [
       "HTML(value='<br/>')"
      ]
     },
     "metadata": {},
     "output_type": "display_data"
    },
    {
     "data": {
      "application/vnd.jupyter.widget-view+json": {
       "model_id": "81cdbbba783b4c938604d22238bb538e",
       "version_major": 2,
       "version_minor": 0
      },
      "text/plain": [
       "HTML(value='<br/>')"
      ]
     },
     "metadata": {},
     "output_type": "display_data"
    },
    {
     "data": {
      "application/vnd.jupyter.widget-view+json": {
       "model_id": "7959db3108894801ab0abbb125b97baf",
       "version_major": 2,
       "version_minor": 0
      },
      "text/plain": [
       "HTML(value='<h2>Create VI Instance</h2>')"
      ]
     },
     "metadata": {},
     "output_type": "display_data"
    },
    {
     "data": {
      "application/vnd.jupyter.widget-view+json": {
       "model_id": "d8219ccde12340888fe949e32405464e",
       "version_major": 2,
       "version_minor": 0
      },
      "text/plain": [
       "VBox(children=(HBox(children=(VBox(children=(HTML(value='<h4>Previous Layer</h4>'), VBox(children=(Button(desc…"
      ]
     },
     "metadata": {},
     "output_type": "display_data"
    },
    {
     "data": {
      "application/vnd.jupyter.widget-view+json": {
       "model_id": "132c96212e8d49e5a0a1c9e3c7275433",
       "version_major": 2,
       "version_minor": 0
      },
      "text/plain": [
       "HTML(value='<br/>')"
      ]
     },
     "metadata": {},
     "output_type": "display_data"
    },
    {
     "data": {
      "application/vnd.jupyter.widget-view+json": {
       "model_id": "cd197187711d4bea94bec46354b283b7",
       "version_major": 2,
       "version_minor": 0
      },
      "text/plain": [
       "Output()"
      ]
     },
     "metadata": {},
     "output_type": "display_data"
    }
   ],
   "source": []
  },
  {
   "cell_type": "code",
   "execution_count": null,
   "id": "bc988c9c",
   "metadata": {},
   "outputs": [],
   "source": []
  },
  {
   "cell_type": "code",
   "execution_count": null,
   "id": "b42bae62",
   "metadata": {},
   "outputs": [],
   "source": []
  },
  {
   "cell_type": "code",
   "execution_count": null,
   "id": "02419902",
   "metadata": {},
   "outputs": [],
   "source": []
  },
  {
   "cell_type": "code",
   "execution_count": null,
   "id": "7fe119f9",
   "metadata": {},
   "outputs": [],
   "source": []
  },
  {
   "cell_type": "code",
   "execution_count": null,
   "id": "60c7a211",
   "metadata": {},
   "outputs": [],
   "source": []
  },
  {
   "cell_type": "code",
   "execution_count": null,
   "id": "01bf3c17",
   "metadata": {},
   "outputs": [],
   "source": []
  },
  {
   "cell_type": "code",
   "execution_count": null,
   "id": "30d94d6e",
   "metadata": {},
   "outputs": [],
   "source": [
    "layers = {\n",
    "    \"Main Layer\": [\"View1 Layer\", \"View2 Layer\", \"Setting Layer\", \"Exit Layer\"],\n",
    "    \"View1 Layer\": [\"Main Layer\", \"View2 Layer\", \"Setting Layer\", \"Exit Layer\"],\n",
    "    \"View2 Layer\": [\"Main Layer\", \"View1 Layer\", \"Setting Layer\", \"Exit Layer\"],\n",
    "    \"Setting Layer\": [\"Main Layer\", \"View1 Layer\", \"View2 Layer\", \"Exit Layer\"],\n",
    "    \"Exit Layer\": []\n",
    "}\n",
    "\n",
    "diagram = create_layer_diagram(layers)\n",
    "print(\"here\")\n",
    "diagram.render('layer_diagram')\n",
    "img = mpimg.imread('layer_diagram.png')\n",
    "imgplot = plt.imshow(img)\n",
    "plt.show()"
   ]
  }
 ],
 "metadata": {
  "kernelspec": {
   "display_name": "Python 3 (ipykernel)",
   "language": "python",
   "name": "python3"
  },
  "language_info": {
   "codemirror_mode": {
    "name": "ipython",
    "version": 3
   },
   "file_extension": ".py",
   "mimetype": "text/x-python",
   "name": "python",
   "nbconvert_exporter": "python",
   "pygments_lexer": "ipython3",
   "version": "3.9.12"
  }
 },
 "nbformat": 4,
 "nbformat_minor": 5
}
