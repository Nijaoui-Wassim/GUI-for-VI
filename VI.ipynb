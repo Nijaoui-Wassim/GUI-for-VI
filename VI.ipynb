{
 "cells": [
  {
   "cell_type": "markdown",
   "id": "fd179a2e",
   "metadata": {},
   "source": [
    "# Importing libraries"
   ]
  },
  {
   "cell_type": "code",
   "execution_count": 1,
   "id": "f9d2db81",
   "metadata": {},
   "outputs": [],
   "source": [
    "import speech_recognition as sr\n",
    "from pydub import AudioSegment\n",
    "from pydub.playback import play\n",
    "import pyttsx3\n",
    "from scipy.io.wavfile import write"
   ]
  },
  {
   "cell_type": "code",
   "execution_count": 2,
   "id": "6c6bf06a",
   "metadata": {},
   "outputs": [
    {
     "name": "stderr",
     "output_type": "stream",
     "text": [
      "The torchaudio backend is switched to 'soundfile'. Note that 'sox_io' is not supported on Windows.\n",
      "The torchaudio backend is switched to 'soundfile'. Note that 'sox_io' is not supported on Windows.\n"
     ]
    }
   ],
   "source": [
    "import torchaudio\n",
    "from speechbrain.pretrained import Tacotron2\n",
    "from speechbrain.pretrained import HIFIGAN"
   ]
  },
  {
   "cell_type": "markdown",
   "id": "24a985b0",
   "metadata": {},
   "source": [
    "### Finding the desired microphone"
   ]
  },
  {
   "cell_type": "code",
   "execution_count": 6,
   "id": "9eba705a",
   "metadata": {},
   "outputs": [
    {
     "name": "stdout",
     "output_type": "stream",
     "text": [
      "Available microphones:\n",
      "found:  Microphone (HyperX QuadCast S)  at index  1\n"
     ]
    }
   ],
   "source": [
    "# Get a list of all available microphone names\n",
    "microphone_names = sr.Microphone.list_microphone_names()\n",
    "microphones = []\n",
    "ind=0\n",
    "# Print the names of the available microphones\n",
    "print(\"Available microphones:\")\n",
    "for i, name in enumerate(microphone_names):\n",
    "    #print(f\"{i}: {name}\")\n",
    "    if 'hyperx' in name.lower():\n",
    "        ind = i\n",
    "        if \"Microphone\" in name:\n",
    "            print(\"found: \", name, ' at index ', i)\n",
    "            microphones.append(name)\n",
    "            break\n",
    "        \n",
    "        \n"
   ]
  },
  {
   "cell_type": "markdown",
   "id": "b718afa7",
   "metadata": {},
   "source": [
    "# Initializing models"
   ]
  },
  {
   "cell_type": "code",
   "execution_count": 7,
   "id": "08c1562e",
   "metadata": {},
   "outputs": [],
   "source": [
    "# Initialize recognizer class (for recognizing the speech)\n",
    "r = sr.Recognizer()\n",
    "\n",
    "# List of activation words\n",
    "activation_words = ['insight', 'inside', 'sight', \"insects\"]"
   ]
  },
  {
   "cell_type": "code",
   "execution_count": 8,
   "id": "84d2149a",
   "metadata": {},
   "outputs": [],
   "source": [
    "# Intialize TTS (tacotron2) and Vocoder (HiFIGAN)\n",
    "tacotron2 = Tacotron2.from_hparams(source=\"speechbrain/tts-tacotron2-ljspeech\", savedir=\"tmpdir_tts\")\n",
    "hifi_gan = HIFIGAN.from_hparams(source=\"speechbrain/tts-hifigan-ljspeech\", savedir=\"tmpdir_vocoder\")"
   ]
  },
  {
   "cell_type": "markdown",
   "id": "d2aede56",
   "metadata": {},
   "source": [
    "# Helper functions"
   ]
  },
  {
   "cell_type": "code",
   "execution_count": 9,
   "id": "2a4f86bb",
   "metadata": {},
   "outputs": [],
   "source": [
    "def activeListening(r):\n",
    "    while True:\n",
    "        text = speechToText(r)\n",
    "        for word in activation_words:\n",
    "            if word in text:\n",
    "                return \"ClearPath is here!\"\n",
    "        return \"bot not called!\"\n",
    "    \n",
    "    \n",
    "\n",
    "def speechToText(r):\n",
    "    # Reading Microphone as source\n",
    "    with sr.Microphone(device_index=ind) as source:\n",
    "        print(\"Talk\")\n",
    "        audio = r.listen(source)\n",
    "\n",
    "    # Using Sphinx to recognize speech in the audio\n",
    "    try:\n",
    "        text = r.recognize_sphinx(audio)\n",
    "        print(\"You said: \" + text)\n",
    "\n",
    "\n",
    "        # Saving the audio data to a file\n",
    "        with open(\"lastaudio.wav\", \"wb\") as f:\n",
    "            f.write(audio.get_wav_data())\n",
    "\n",
    "    except sr.UnknownValueError:\n",
    "        print(\"Sphinx could not understand audio\")\n",
    "    except sr.RequestError as e:\n",
    "        print(\"Sphinx error; {0}\".format(e))\n",
    "        \n",
    "    return text\n",
    "\n",
    "def text_to_wav(name):\n",
    "    # Playing the audio in the browser\n",
    "    sound = AudioSegment.from_wav(name)\n",
    "    # Change the sample rate to 44.1kHz\n",
    "    sound = sound.set_frame_rate(44100)\n",
    "    sound.export(\"latestOutput.mp3\", format=\"mp3\")\n",
    "    \n",
    "    sound = AudioSegment.from_mp3(\"latestOutput.mp3\")\n",
    "    play(sound)\n",
    "    \n",
    "def textToSpeechFromText(text):\n",
    "    \n",
    "    engine = pyttsx3.init()\n",
    "    \n",
    "    voices = engine.getProperty('voices')\n",
    "    engine.setProperty('voice', voices[1].id)  # change the voice to the second one in the list\n",
    "    engine.setProperty('language', 'en-us')  # set the language to US English\n",
    "    \n",
    "    #rate = engine.getProperty('rate')\n",
    "    #engine.setProperty('rate', int(rate * 1.1))\n",
    "    #engine.setProperty('rate', rate - 50)\n",
    "\n",
    "    volume = engine.getProperty('volume')\n",
    "    engine.setProperty('volume', volume + 0.25)\n",
    "\n",
    "    engine.say(text)\n",
    "    engine.runAndWait()\n",
    "    \n",
    "    # Playing the audio in the browser\n",
    "    #sound = AudioSegment.from_wav(name)\n",
    "    #play(sound)\n",
    "    \n",
    "def textToSpeechAI(text):\n",
    "    \n",
    "    # Running the TTS\n",
    "    mel_output, mel_length, alignment = tacotron2.encode_text(text)\n",
    "\n",
    "    # Running Vocoder (spectrogram-to-waveform)\n",
    "    waveforms = hifi_gan.decode_batch(mel_output)\n",
    "\n",
    "    # Save the waverform\n",
    "    write(\"latestOutput.wav\", 23000, waveforms.numpy())\n",
    "    #torchaudio.save('latestOutput.wav',waveforms.squeeze(1), 22050)\n",
    "    \n",
    "    #textToSpeechFromFile('latestOutput.wav')"
   ]
  },
  {
   "cell_type": "code",
   "execution_count": 10,
   "id": "49531ff6",
   "metadata": {},
   "outputs": [
    {
     "ename": "FileNotFoundError",
     "evalue": "[Errno 2] No such file or directory: 'latestOutput.wav'",
     "output_type": "error",
     "traceback": [
      "\u001b[1;31m---------------------------------------------------------------------------\u001b[0m",
      "\u001b[1;31mFileNotFoundError\u001b[0m                         Traceback (most recent call last)",
      "Input \u001b[1;32mIn [10]\u001b[0m, in \u001b[0;36m<cell line: 1>\u001b[1;34m()\u001b[0m\n\u001b[1;32m----> 1\u001b[0m \u001b[43mtext_to_wav\u001b[49m\u001b[43m(\u001b[49m\u001b[38;5;124;43m'\u001b[39;49m\u001b[38;5;124;43mlatestOutput.wav\u001b[39;49m\u001b[38;5;124;43m'\u001b[39;49m\u001b[43m)\u001b[49m\n",
      "Input \u001b[1;32mIn [9]\u001b[0m, in \u001b[0;36mtext_to_wav\u001b[1;34m(name)\u001b[0m\n\u001b[0;32m     34\u001b[0m \u001b[38;5;28;01mdef\u001b[39;00m \u001b[38;5;21mtext_to_wav\u001b[39m(name):\n\u001b[0;32m     35\u001b[0m     \u001b[38;5;66;03m# Playing the audio in the browser\u001b[39;00m\n\u001b[1;32m---> 36\u001b[0m     sound \u001b[38;5;241m=\u001b[39m \u001b[43mAudioSegment\u001b[49m\u001b[38;5;241;43m.\u001b[39;49m\u001b[43mfrom_wav\u001b[49m\u001b[43m(\u001b[49m\u001b[43mname\u001b[49m\u001b[43m)\u001b[49m\n\u001b[0;32m     37\u001b[0m     \u001b[38;5;66;03m# Change the sample rate to 44.1kHz\u001b[39;00m\n\u001b[0;32m     38\u001b[0m     sound \u001b[38;5;241m=\u001b[39m sound\u001b[38;5;241m.\u001b[39mset_frame_rate(\u001b[38;5;241m44100\u001b[39m)\n",
      "File \u001b[1;32m~\\AppData\\Roaming\\Python\\Python39\\site-packages\\pydub\\audio_segment.py:808\u001b[0m, in \u001b[0;36mAudioSegment.from_wav\u001b[1;34m(cls, file, parameters)\u001b[0m\n\u001b[0;32m    806\u001b[0m \u001b[38;5;129m@classmethod\u001b[39m\n\u001b[0;32m    807\u001b[0m \u001b[38;5;28;01mdef\u001b[39;00m \u001b[38;5;21mfrom_wav\u001b[39m(\u001b[38;5;28mcls\u001b[39m, file, parameters\u001b[38;5;241m=\u001b[39m\u001b[38;5;28;01mNone\u001b[39;00m):\n\u001b[1;32m--> 808\u001b[0m     \u001b[38;5;28;01mreturn\u001b[39;00m \u001b[38;5;28;43mcls\u001b[39;49m\u001b[38;5;241;43m.\u001b[39;49m\u001b[43mfrom_file\u001b[49m\u001b[43m(\u001b[49m\u001b[43mfile\u001b[49m\u001b[43m,\u001b[49m\u001b[43m \u001b[49m\u001b[38;5;124;43m'\u001b[39;49m\u001b[38;5;124;43mwav\u001b[39;49m\u001b[38;5;124;43m'\u001b[39;49m\u001b[43m,\u001b[49m\u001b[43m \u001b[49m\u001b[43mparameters\u001b[49m\u001b[38;5;241;43m=\u001b[39;49m\u001b[43mparameters\u001b[49m\u001b[43m)\u001b[49m\n",
      "File \u001b[1;32m~\\AppData\\Roaming\\Python\\Python39\\site-packages\\pydub\\audio_segment.py:651\u001b[0m, in \u001b[0;36mAudioSegment.from_file\u001b[1;34m(cls, file, format, codec, parameters, start_second, duration, **kwargs)\u001b[0m\n\u001b[0;32m    649\u001b[0m \u001b[38;5;28;01mexcept\u001b[39;00m \u001b[38;5;167;01mTypeError\u001b[39;00m:\n\u001b[0;32m    650\u001b[0m     filename \u001b[38;5;241m=\u001b[39m \u001b[38;5;28;01mNone\u001b[39;00m\n\u001b[1;32m--> 651\u001b[0m file, close_file \u001b[38;5;241m=\u001b[39m \u001b[43m_fd_or_path_or_tempfile\u001b[49m\u001b[43m(\u001b[49m\u001b[43mfile\u001b[49m\u001b[43m,\u001b[49m\u001b[43m \u001b[49m\u001b[38;5;124;43m'\u001b[39;49m\u001b[38;5;124;43mrb\u001b[39;49m\u001b[38;5;124;43m'\u001b[39;49m\u001b[43m,\u001b[49m\u001b[43m \u001b[49m\u001b[43mtempfile\u001b[49m\u001b[38;5;241;43m=\u001b[39;49m\u001b[38;5;28;43;01mFalse\u001b[39;49;00m\u001b[43m)\u001b[49m\n\u001b[0;32m    653\u001b[0m \u001b[38;5;28;01mif\u001b[39;00m \u001b[38;5;28mformat\u001b[39m:\n\u001b[0;32m    654\u001b[0m     \u001b[38;5;28mformat\u001b[39m \u001b[38;5;241m=\u001b[39m \u001b[38;5;28mformat\u001b[39m\u001b[38;5;241m.\u001b[39mlower()\n",
      "File \u001b[1;32m~\\AppData\\Roaming\\Python\\Python39\\site-packages\\pydub\\utils.py:60\u001b[0m, in \u001b[0;36m_fd_or_path_or_tempfile\u001b[1;34m(fd, mode, tempfile)\u001b[0m\n\u001b[0;32m     57\u001b[0m     close_fd \u001b[38;5;241m=\u001b[39m \u001b[38;5;28;01mTrue\u001b[39;00m\n\u001b[0;32m     59\u001b[0m \u001b[38;5;28;01mif\u001b[39;00m \u001b[38;5;28misinstance\u001b[39m(fd, basestring):\n\u001b[1;32m---> 60\u001b[0m     fd \u001b[38;5;241m=\u001b[39m \u001b[38;5;28;43mopen\u001b[39;49m\u001b[43m(\u001b[49m\u001b[43mfd\u001b[49m\u001b[43m,\u001b[49m\u001b[43m \u001b[49m\u001b[43mmode\u001b[49m\u001b[38;5;241;43m=\u001b[39;49m\u001b[43mmode\u001b[49m\u001b[43m)\u001b[49m\n\u001b[0;32m     61\u001b[0m     close_fd \u001b[38;5;241m=\u001b[39m \u001b[38;5;28;01mTrue\u001b[39;00m\n\u001b[0;32m     63\u001b[0m \u001b[38;5;28;01mtry\u001b[39;00m:\n",
      "\u001b[1;31mFileNotFoundError\u001b[0m: [Errno 2] No such file or directory: 'latestOutput.wav'"
     ]
    }
   ],
   "source": [
    "text_to_wav('latestOutput.wav')"
   ]
  },
  {
   "cell_type": "code",
   "execution_count": 27,
   "id": "d4eff31b",
   "metadata": {},
   "outputs": [],
   "source": [
    "textToSpeechFromText(\"Hello, this is your voice assistant.\")"
   ]
  },
  {
   "cell_type": "code",
   "execution_count": 38,
   "id": "2597e28b",
   "metadata": {},
   "outputs": [],
   "source": [
    "#textToSpeechFromText(\"Hello, this is an example.\")\n",
    "textToSpeechAI(\"Hello, this is your voice assistant.\")"
   ]
  },
  {
   "cell_type": "code",
   "execution_count": 19,
   "id": "4f36cee2",
   "metadata": {},
   "outputs": [
    {
     "name": "stdout",
     "output_type": "stream",
     "text": [
      "Talk\n",
      "You said: no i'm sorry\n"
     ]
    },
    {
     "data": {
      "text/plain": [
       "'bot not called!'"
      ]
     },
     "execution_count": 19,
     "metadata": {},
     "output_type": "execute_result"
    }
   ],
   "source": [
    "activeListening(r)"
   ]
  },
  {
   "cell_type": "code",
   "execution_count": 1,
   "id": "898c4404",
   "metadata": {},
   "outputs": [],
   "source": [
    "import graphviz as gv\n",
    "import os\n",
    "import matplotlib.pyplot as plt\n",
    "import matplotlib.image as mpimg\n",
    "os.environ[\"PATH\"] += os.pathsep + 'C:/Program Files/Graphviz/bin'\n",
    "\n",
    "%matplotlib inline\n",
    "import matplotlib.pyplot as plt\n",
    "import matplotlib.image as mpimg"
   ]
  },
  {
   "cell_type": "code",
   "execution_count": 2,
   "id": "f16a8a4d",
   "metadata": {},
   "outputs": [
    {
     "name": "stdout",
     "output_type": "stream",
     "text": [
      "(Main Layer): View1 Layer - View2 Layer - Setting Layer - Exit Layer \n",
      "\n",
      " \t |\n",
      "\n",
      "(View1 Layer): Main Layer - View2 Layer - Setting Layer - Exit Layer \n",
      "\n",
      " \t |\n",
      "\n",
      "(View2 Layer): Main Layer - View1 Layer - Setting Layer - Exit Layer \n",
      "\n",
      " \t |\n",
      "\n",
      "(Setting Layer): Main Layer - View1 Layer - View2 Layer - Exit Layer \n",
      "\n",
      " \t |\n",
      "\n",
      "(Exit Layer)\n"
     ]
    }
   ],
   "source": [
    "class VI:\n",
    "    def __init__(self, previous=None, next=None, screens=[], actions=[], name=\"Default Layer\", identifier=0):\n",
    "        self.previous = previous\n",
    "        self.next = next\n",
    "        self.screens = screens\n",
    "        self.actions = actions\n",
    "        self.name = name\n",
    "        self.id = identifier\n",
    "        \n",
    "\n",
    "    def __str__(self):\n",
    "        connections = self.get_screens() \n",
    "\n",
    "        for i in range(len(self.screens)):\n",
    "            connections += \"\\n\\n \\t |\\n\\n\"+ (self.screens[i].get_screens())\n",
    "\n",
    "        #print(connections)    \n",
    "        return connections\n",
    "        \n",
    "    def navigateTo(self, screen_name):\n",
    "        if screen_name in self.screens:\n",
    "            print(\"Navigating to screen: \", screen_name)\n",
    "        else:\n",
    "            print(\"Screen not found in list of screens\")\n",
    "    \n",
    "    def set_previous(self, previous):\n",
    "        self.previous = previous\n",
    "        \n",
    "    def get_previous(self):\n",
    "        return self.previous\n",
    "    \n",
    "    def set_next(self, next):\n",
    "        self.next = next\n",
    "        \n",
    "    def get_next(self):\n",
    "        return self.next\n",
    "    \n",
    "    def set_screens(self, screens):\n",
    "        self.screens = screens\n",
    "        \n",
    "    def get_screens(self):\n",
    "        result = \"(\"+self.get_name()+\"): \"\n",
    "        for screen in self.screens:\n",
    "            \n",
    "            try:\n",
    "                result += str(screen.get_name()) + \" - \"\n",
    "            except:\n",
    "                result += str(screen) + \" - \"\n",
    "                \n",
    "        return result[:-2]\n",
    "    \n",
    "    def set_name(self, name):\n",
    "        self.name = name\n",
    "        \n",
    "    def get_name(self):\n",
    "        return self.name\n",
    "    \n",
    "    def set_id(self, identifier):\n",
    "        self.id = identifier\n",
    "        \n",
    "    def get_id(self):\n",
    "        return self.id\n",
    "\n",
    "    \n",
    "    def defaultInterface():\n",
    "        Exit = \"Exit\"\n",
    "\n",
    "        Home  = VI(name=\"Main Layer\", identifier=1)\n",
    "        View1 = VI(previous=Home, next=None, screens=[], name=\"View1 Layer\", identifier=2)\n",
    "        View1Otherscreen = VI(previous=View1, next=None, screens=[], name=\"View1 Layer\", identifier=2)\n",
    "        View2 = VI(previous=Home, name=\"View2 Layer\", identifier=3)\n",
    "        Settings = VI(previous=Home, name=\"Setting Layer\", identifier=4)\n",
    "        Exit = VI(previous=Home, name=\"Exit Layer\", identifier=5)\n",
    "\n",
    "\n",
    "        Home.set_screens([View1, View2, Settings, Exit])\n",
    "        View1.set_screens([Home, View2, Settings, Exit])\n",
    "        View1Otherscreen.set_screens([Home, View1, Exit])\n",
    "        View2.set_screens([Home, View1, Settings, Exit])\n",
    "        Settings.set_screens([Home, View1, View2, Exit])\n",
    "        Exit.set_screens([])\n",
    "\n",
    "        return Home\n",
    "    \n",
    "\n",
    "        \n",
    "Home = VI.defaultInterface()\n",
    "#Home.screens\n",
    "print(str(Home))"
   ]
  },
  {
   "cell_type": "code",
   "execution_count": 3,
   "id": "d372ce08",
   "metadata": {},
   "outputs": [
    {
     "name": "stdout",
     "output_type": "stream",
     "text": [
      "here\n"
     ]
    },
    {
     "data": {
      "image/png": "[encoded data removed]",
      "text/plain": [
       "<Figure size 432x288 with 1 Axes>"
      ]
     },
     "metadata": {
      "needs_background": "light"
     },
     "output_type": "display_data"
    }
   ],
   "source": [
    "def create_layer_diagram(layers):\n",
    "    graph = gv.Graph(format='png')\n",
    "    \n",
    "    for layer in layers:\n",
    "        graph.node(layer, shape='circle', color='green2')\n",
    "        \n",
    "        for neighbor in layers[layer]:\n",
    "            try:\n",
    "                graph.edge(layer, neighbor, color='blue4')\n",
    "                \n",
    "                graph.node(neighbor + \":\\n\"+\"F1\\nF2\\nF3\", shape='rectangle', color='red1')\n",
    "                graph.edge(neighbor, neighbor + \"_\", shape='rectangle', color='red1')\n",
    "            except:\n",
    "                pass\n",
    "    \n",
    "    return graph\n",
    "\n",
    "layers = {\n",
    "    \"Main Layer\": [\"View1 Layer\", \"View2 Layer\", \"Setting Layer\", \"Exit Layer\"],\n",
    "    \"View1 Layer\": [\"Main Layer\", \"View2 Layer\", \"Setting Layer\", \"Exit Layer\"],\n",
    "    \"View2 Layer\": [\"Main Layer\", \"View1 Layer\", \"Setting Layer\", \"Exit Layer\"],\n",
    "    \"Setting Layer\": [\"Main Layer\", \"View1 Layer\", \"View2 Layer\", \"Exit Layer\"],\n",
    "    \"Exit Layer\": []\n",
    "}\n",
    "\n",
    "diagram = create_layer_diagram(layers)\n",
    "print(\"here\")\n",
    "diagram.render('layer_diagram')\n",
    "img = mpimg.imread('layer_diagram.png')\n",
    "imgplot = plt.imshow(img)\n",
    "plt.show()"
   ]
  },
  {
   "cell_type": "code",
   "execution_count": 5,
   "id": "c8a48034",
   "metadata": {},
   "outputs": [
    {
     "name": "stdout",
     "output_type": "stream",
     "text": [
      "Previous:  Previous Layer\n",
      "Next:  Next Layer\n",
      "Screens:  (Updated Layer): Home - Settings - Profile \n",
      "Name:  Updated Layer\n",
      "ID:  2\n"
     ]
    }
   ],
   "source": [
    "layer = VI(previous=None, next=None, screens=[\"Home\", \"Settings\"], name=\"Main Layer\", identifier=1)\n",
    "\n",
    "layer.set_previous(\"Previous Layer\")\n",
    "layer.set_next(\"Next Layer\")\n",
    "layer.set_screens([\"Home\", \"Settings\", \"Profile\"])\n",
    "layer.set_name(\"Updated Layer\")\n",
    "layer.set_id(2)\n",
    "\n",
    "print(\"Previous: \", layer.get_previous())\n",
    "print(\"Next: \", layer.get_next())\n",
    "print(\"Screens: \", layer.get_screens())\n",
    "print(\"Name: \", layer.get_name())\n",
    "print(\"ID: \", layer.get_id())"
   ]
  },
  {
   "cell_type": "code",
   "execution_count": null,
   "id": "6776adc0",
   "metadata": {},
   "outputs": [],
   "source": []
  },
  {
   "cell_type": "code",
   "execution_count": null,
   "id": "6fd0f7b6",
   "metadata": {},
   "outputs": [],
   "source": []
  }
 ],
 "metadata": {
  "kernelspec": {
   "display_name": "Python 3 (ipykernel)",
   "language": "python",
   "name": "python3"
  },
  "language_info": {
   "codemirror_mode": {
    "name": "ipython",
    "version": 3
   },
   "file_extension": ".py",
   "mimetype": "text/x-python",
   "name": "python",
   "nbconvert_exporter": "python",
   "pygments_lexer": "ipython3",
   "version": "3.9.12"
  }
 },
 "nbformat": 4,
 "nbformat_minor": 5
}
